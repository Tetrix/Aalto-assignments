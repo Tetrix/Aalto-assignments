{
 "cells": [
  {
   "cell_type": "code",
   "execution_count": 23,
   "metadata": {},
   "outputs": [],
   "source": [
    "import nltk\n",
    "import pandas as pd"
   ]
  },
  {
   "cell_type": "markdown",
   "metadata": {},
   "source": [
    "Install different models, corpora, etc"
   ]
  },
  {
   "cell_type": "code",
   "execution_count": 3,
   "metadata": {},
   "outputs": [
    {
     "name": "stdout",
     "output_type": "stream",
     "text": [
      "showing info https://raw.githubusercontent.com/nltk/nltk_data/gh-pages/index.xml\n"
     ]
    },
    {
     "data": {
      "text/plain": [
       "True"
      ]
     },
     "execution_count": 3,
     "metadata": {},
     "output_type": "execute_result"
    }
   ],
   "source": [
    "nltk.download()"
   ]
  },
  {
   "cell_type": "markdown",
   "metadata": {},
   "source": [
    "First thing we need to do is to load some text in order to use the NLTK"
   ]
  },
  {
   "cell_type": "code",
   "execution_count": 47,
   "metadata": {},
   "outputs": [
    {
     "name": "stdout",
     "output_type": "stream",
     "text": [
      "When I first saw the trailers for \"The Fellowship of the Ring,\" I had never had any interest in reading the lengthy tome of a trilogy. But seeing the possibility of the movie, I immediately went out and read the whole thing, insisted on receiving it for Christmas, and enjoyed every minute of it. The feelings I had while reading the series were heightened seeing it come to life in the stunning movie. I thought it was a fabulous work of art. I thought that having Galadriel tell what was basically the prologue of the book was a good idea, as it helped those who had never read the story. It also immediately involved me in the film; I felt I had an insider's advantage on the rest of the audience. Cate Blanchett has a wonderfully deep and emotional voice; the way she speaks Galadriel is almost as effective as her appearence as the Elven queen. Also, showing the last battle of Isildur and Sauron helped unfog a part of the novel that had me a trifle confused. The entire movie is full of beautiful sets and landscapes. The Shire was almost exactly as I'd pictured it. Hobbiton is cute and very whimsical. Mordor was frighteningly well done, extremely real. Rivendell had a little bit of a European-tourist-trap look, but was beautiful all the same. The entire backdrop of the movie (the mountains, Moria, Isengard) was perfect; it's amazing that \"Fellowship\" was filmed in one country. Now to the characters. All I can say is, \"Wow.\" I was a little apprehensive about the casting at first; I'd created such real images of the characters in my imagination, I almost didn't want them spoiled for me. However, I was not disapointed in the least. Elijah Wood, though not one of my favorite actors, was believable. You could tell from the first glimpse that Frodo was special; Wood's pale, sharp features contrast sharply with the more ruddy, robust look of the rest of the hobbits. He also cries like a little girl. But his weaknesses and strengths make his Frodo an apt choice for the starring character. The rest of the Hobbiton gang was well-chosen, too. Sean Astin (\"Rudy\" forever to me) was loyal and a bit bumbling, just like the Gamgee of Tolkien's telling. Pippin and Merry were congenial, slow-witted lads, but very brave nonetheless. Viggo Mortensen is outstanding. He has the ability to make Aragorn both menacing and kind. He physically represents Strider to the nines with his strength and virility; the action sequences of his are very passionate and exciting. Some may have complained about Arwen's character being slightly expanded; I thought it a good change. In the books, you have to read the whole trilogy and then rifle through the appendix in \"The Return of the King\" to learn the history between Aragorn and Arwen. Liv Tyler is ethereal and breathtaking, but at the same time displays the courage and magic that make the Elves the beings they are. Speaking of Elves, I can't help but gush over the handsome and ever-so-talented Orlando Bloom as noble Legolas. Bloom captured the archer's very movements; he treads lightly and fights fearlessly. Legolas's bowmanship was amazing; he looked so natural loosing his arrows machine-gun style. He was my favorite character in the books, and his essence transcends the film. Gimli was pompous and brave, as well. He is well-represented in the movie. Boromir was hopelessly lost, but at the same time valiant and strong. Sean Bean gave an emotionally-charged performance as the tortured warrior. Hugo Weaving was very good as Elrond. He was noble and cold at the same time. And Gandalf. What more can be said of Ian McKellan's showcase portrayal of the wizard? He was magnificent. He could be Gandalf, the kind old conjurer who set off pyrotechnics for hobbit-children. Then he could turn around and stun the life out of you with Gandalf the powerful wizard, facing the balrog with defiance and an iron will. His Oscar nomination is well-deserved. Peter Jackson is a brave soul to take on a project that could have backfired in so many places. Instead of bringing us uninspired kitsch, he serves up raw emotion, graphic battles of good and evil, chilling and wonderful characters, and enough special effects (realistic, mind you) to make John Cameron's mouth water. Knowing that \"The Two Towers\" was my favorite of the books, I eagerly anticipate the second helping of \"The Lord of the Rings\"\n"
     ]
    }
   ],
   "source": [
    "with open('text.txt', 'r') as f:\n",
    "    text = f.readlines()\n",
    "\n",
    "text = text[0]\n",
    "print(text)"
   ]
  },
  {
   "cell_type": "markdown",
   "metadata": {},
   "source": [
    "<h3> Tokenization of words </h3>"
   ]
  },
  {
   "cell_type": "code",
   "execution_count": 57,
   "metadata": {},
   "outputs": [
    {
     "name": "stdout",
     "output_type": "stream",
     "text": [
      "['When', 'I', 'first', 'saw', 'the', 'trailers', 'for', '``', 'The', 'Fellowship', 'of', 'the', 'Ring', ',', \"''\", 'I', 'had', 'never', 'had', 'any', 'interest', 'in', 'reading', 'the', 'lengthy', 'tome', 'of', 'a', 'trilogy', '.', 'But', 'seeing', 'the', 'possibility', 'of', 'the', 'movie', ',', 'I', 'immediately', 'went', 'out', 'and', 'read', 'the', 'whole', 'thing', ',', 'insisted', 'on', 'receiving', 'it', 'for', 'Christmas', ',', 'and', 'enjoyed', 'every', 'minute', 'of', 'it', '.', 'The', 'feelings', 'I', 'had', 'while', 'reading', 'the', 'series', 'were', 'heightened', 'seeing', 'it', 'come', 'to', 'life', 'in', 'the', 'stunning', 'movie', '.', 'I', 'thought', 'it', 'was', 'a', 'fabulous', 'work', 'of', 'art', '.', 'I', 'thought', 'that', 'having', 'Galadriel', 'tell', 'what', 'was', 'basically', 'the', 'prologue', 'of', 'the', 'book', 'was', 'a', 'good', 'idea', ',', 'as', 'it', 'helped', 'those', 'who', 'had', 'never', 'read', 'the', 'story', '.', 'It', 'also', 'immediately', 'involved', 'me', 'in', 'the', 'film', ';', 'I', 'felt', 'I', 'had', 'an', 'insider', \"'s\", 'advantage', 'on', 'the', 'rest', 'of', 'the', 'audience', '.', 'Cate', 'Blanchett', 'has', 'a', 'wonderfully', 'deep', 'and', 'emotional', 'voice', ';', 'the', 'way', 'she', 'speaks', 'Galadriel', 'is', 'almost', 'as', 'effective', 'as', 'her', 'appearence', 'as', 'the', 'Elven', 'queen', '.', 'Also', ',', 'showing', 'the', 'last', 'battle', 'of', 'Isildur', 'and', 'Sauron', 'helped', 'unfog', 'a', 'part', 'of', 'the', 'novel', 'that', 'had', 'me', 'a', 'trifle', 'confused', '.', 'The', 'entire', 'movie', 'is', 'full', 'of', 'beautiful', 'sets', 'and', 'landscapes', '.', 'The', 'Shire', 'was', 'almost', 'exactly', 'as', 'I', \"'d\", 'pictured', 'it', '.', 'Hobbiton', 'is', 'cute', 'and', 'very', 'whimsical', '.', 'Mordor', 'was', 'frighteningly', 'well', 'done', ',', 'extremely', 'real', '.', 'Rivendell', 'had', 'a', 'little', 'bit', 'of', 'a', 'European-tourist-trap', 'look', ',', 'but', 'was', 'beautiful', 'all', 'the', 'same', '.', 'The', 'entire', 'backdrop', 'of', 'the', 'movie', '(', 'the', 'mountains', ',', 'Moria', ',', 'Isengard', ')', 'was', 'perfect', ';', 'it', \"'s\", 'amazing', 'that', '``', 'Fellowship', \"''\", 'was', 'filmed', 'in', 'one', 'country', '.', 'Now', 'to', 'the', 'characters', '.', 'All', 'I', 'can', 'say', 'is', ',', '``', 'Wow', '.', \"''\", 'I', 'was', 'a', 'little', 'apprehensive', 'about', 'the', 'casting', 'at', 'first', ';', 'I', \"'d\", 'created', 'such', 'real', 'images', 'of', 'the', 'characters', 'in', 'my', 'imagination', ',', 'I', 'almost', 'did', \"n't\", 'want', 'them', 'spoiled', 'for', 'me', '.', 'However', ',', 'I', 'was', 'not', 'disapointed', 'in', 'the', 'least', '.', 'Elijah', 'Wood', ',', 'though', 'not', 'one', 'of', 'my', 'favorite', 'actors', ',', 'was', 'believable', '.', 'You', 'could', 'tell', 'from', 'the', 'first', 'glimpse', 'that', 'Frodo', 'was', 'special', ';', 'Wood', \"'s\", 'pale', ',', 'sharp', 'features', 'contrast', 'sharply', 'with', 'the', 'more', 'ruddy', ',', 'robust', 'look', 'of', 'the', 'rest', 'of', 'the', 'hobbits', '.', 'He', 'also', 'cries', 'like', 'a', 'little', 'girl', '.', 'But', 'his', 'weaknesses', 'and', 'strengths', 'make', 'his', 'Frodo', 'an', 'apt', 'choice', 'for', 'the', 'starring', 'character', '.', 'The', 'rest', 'of', 'the', 'Hobbiton', 'gang', 'was', 'well-chosen', ',', 'too', '.', 'Sean', 'Astin', '(', '``', 'Rudy', \"''\", 'forever', 'to', 'me', ')', 'was', 'loyal', 'and', 'a', 'bit', 'bumbling', ',', 'just', 'like', 'the', 'Gamgee', 'of', 'Tolkien', \"'s\", 'telling', '.', 'Pippin', 'and', 'Merry', 'were', 'congenial', ',', 'slow-witted', 'lads', ',', 'but', 'very', 'brave', 'nonetheless', '.', 'Viggo', 'Mortensen', 'is', 'outstanding', '.', 'He', 'has', 'the', 'ability', 'to', 'make', 'Aragorn', 'both', 'menacing', 'and', 'kind', '.', 'He', 'physically', 'represents', 'Strider', 'to', 'the', 'nines', 'with', 'his', 'strength', 'and', 'virility', ';', 'the', 'action', 'sequences', 'of', 'his', 'are', 'very', 'passionate', 'and', 'exciting', '.', 'Some', 'may', 'have', 'complained', 'about', 'Arwen', \"'s\", 'character', 'being', 'slightly', 'expanded', ';', 'I', 'thought', 'it', 'a', 'good', 'change', '.', 'In', 'the', 'books', ',', 'you', 'have', 'to', 'read', 'the', 'whole', 'trilogy', 'and', 'then', 'rifle', 'through', 'the', 'appendix', 'in', '``', 'The', 'Return', 'of', 'the', 'King', \"''\", 'to', 'learn', 'the', 'history', 'between', 'Aragorn', 'and', 'Arwen', '.', 'Liv', 'Tyler', 'is', 'ethereal', 'and', 'breathtaking', ',', 'but', 'at', 'the', 'same', 'time', 'displays', 'the', 'courage', 'and', 'magic', 'that', 'make', 'the', 'Elves', 'the', 'beings', 'they', 'are', '.', 'Speaking', 'of', 'Elves', ',', 'I', 'ca', \"n't\", 'help', 'but', 'gush', 'over', 'the', 'handsome', 'and', 'ever-so-talented', 'Orlando', 'Bloom', 'as', 'noble', 'Legolas', '.', 'Bloom', 'captured', 'the', 'archer', \"'s\", 'very', 'movements', ';', 'he', 'treads', 'lightly', 'and', 'fights', 'fearlessly', '.', 'Legolas', \"'s\", 'bowmanship', 'was', 'amazing', ';', 'he', 'looked', 'so', 'natural', 'loosing', 'his', 'arrows', 'machine-gun', 'style', '.', 'He', 'was', 'my', 'favorite', 'character', 'in', 'the', 'books', ',', 'and', 'his', 'essence', 'transcends', 'the', 'film', '.', 'Gimli', 'was', 'pompous', 'and', 'brave', ',', 'as', 'well', '.', 'He', 'is', 'well-represented', 'in', 'the', 'movie', '.', 'Boromir', 'was', 'hopelessly', 'lost', ',', 'but', 'at', 'the', 'same', 'time', 'valiant', 'and', 'strong', '.', 'Sean', 'Bean', 'gave', 'an', 'emotionally-charged', 'performance', 'as', 'the', 'tortured', 'warrior', '.', 'Hugo', 'Weaving', 'was', 'very', 'good', 'as', 'Elrond', '.', 'He', 'was', 'noble', 'and', 'cold', 'at', 'the', 'same', 'time', '.', 'And', 'Gandalf', '.', 'What', 'more', 'can', 'be', 'said', 'of', 'Ian', 'McKellan', \"'s\", 'showcase', 'portrayal', 'of', 'the', 'wizard', '?', 'He', 'was', 'magnificent', '.', 'He', 'could', 'be', 'Gandalf', ',', 'the', 'kind', 'old', 'conjurer', 'who', 'set', 'off', 'pyrotechnics', 'for', 'hobbit-children', '.', 'Then', 'he', 'could', 'turn', 'around', 'and', 'stun', 'the', 'life', 'out', 'of', 'you', 'with', 'Gandalf', 'the', 'powerful', 'wizard', ',', 'facing', 'the', 'balrog', 'with', 'defiance', 'and', 'an', 'iron', 'will', '.', 'His', 'Oscar', 'nomination', 'is', 'well-deserved', '.', 'Peter', 'Jackson', 'is', 'a', 'brave', 'soul', 'to', 'take', 'on', 'a', 'project', 'that', 'could', 'have', 'backfired', 'in', 'so', 'many', 'places', '.', 'Instead', 'of', 'bringing', 'us', 'uninspired', 'kitsch', ',', 'he', 'serves', 'up', 'raw', 'emotion', ',', 'graphic', 'battles', 'of', 'good', 'and', 'evil', ',', 'chilling', 'and', 'wonderful', 'characters', ',', 'and', 'enough', 'special', 'effects', '(', 'realistic', ',', 'mind', 'you', ')', 'to', 'make', 'John', 'Cameron', \"'s\", 'mouth', 'water', '.', 'Knowing', 'that', '``', 'The', 'Two', 'Towers', \"''\", 'was', 'my', 'favorite', 'of', 'the', 'books', ',', 'I', 'eagerly', 'anticipate', 'the', 'second', 'helping', 'of', '``', 'The', 'Lord', 'of', 'the', 'Rings', \"''\"]\n"
     ]
    }
   ],
   "source": [
    "from nltk.tokenize import word_tokenize\n",
    "\n",
    "tokenized_text = word_tokenize(text)\n",
    "print(tokenized_text)"
   ]
  },
  {
   "cell_type": "markdown",
   "metadata": {},
   "source": [
    "From the example above, we can see how the sample text got splitted into words"
   ]
  },
  {
   "cell_type": "markdown",
   "metadata": {},
   "source": [
    "<h3> Tokenization of sentences </h3>"
   ]
  },
  {
   "cell_type": "code",
   "execution_count": 62,
   "metadata": {},
   "outputs": [
    {
     "name": "stdout",
     "output_type": "stream",
     "text": [
      "['When I first saw the trailers for \"The Fellowship of the Ring,\" I had never had any interest in reading the lengthy tome of a trilogy.', 'But seeing the possibility of the movie, I immediately went out and read the whole thing, insisted on receiving it for Christmas, and enjoyed every minute of it.', 'The feelings I had while reading the series were heightened seeing it come to life in the stunning movie.', 'I thought it was a fabulous work of art.', 'I thought that having Galadriel tell what was basically the prologue of the book was a good idea, as it helped those who had never read the story.', \"It also immediately involved me in the film; I felt I had an insider's advantage on the rest of the audience.\", 'Cate Blanchett has a wonderfully deep and emotional voice; the way she speaks Galadriel is almost as effective as her appearence as the Elven queen.', 'Also, showing the last battle of Isildur and Sauron helped unfog a part of the novel that had me a trifle confused.', 'The entire movie is full of beautiful sets and landscapes.', \"The Shire was almost exactly as I'd pictured it.\", 'Hobbiton is cute and very whimsical.', 'Mordor was frighteningly well done, extremely real.', 'Rivendell had a little bit of a European-tourist-trap look, but was beautiful all the same.', 'The entire backdrop of the movie (the mountains, Moria, Isengard) was perfect; it\\'s amazing that \"Fellowship\" was filmed in one country.', 'Now to the characters.', 'All I can say is, \"Wow.\"', \"I was a little apprehensive about the casting at first; I'd created such real images of the characters in my imagination, I almost didn't want them spoiled for me.\", 'However, I was not disapointed in the least.', 'Elijah Wood, though not one of my favorite actors, was believable.', \"You could tell from the first glimpse that Frodo was special; Wood's pale, sharp features contrast sharply with the more ruddy, robust look of the rest of the hobbits.\", 'He also cries like a little girl.', 'But his weaknesses and strengths make his Frodo an apt choice for the starring character.', 'The rest of the Hobbiton gang was well-chosen, too.', 'Sean Astin (\"Rudy\" forever to me) was loyal and a bit bumbling, just like the Gamgee of Tolkien\\'s telling.', 'Pippin and Merry were congenial, slow-witted lads, but very brave nonetheless.', 'Viggo Mortensen is outstanding.', 'He has the ability to make Aragorn both menacing and kind.', 'He physically represents Strider to the nines with his strength and virility; the action sequences of his are very passionate and exciting.', \"Some may have complained about Arwen's character being slightly expanded; I thought it a good change.\", 'In the books, you have to read the whole trilogy and then rifle through the appendix in \"The Return of the King\" to learn the history between Aragorn and Arwen.', 'Liv Tyler is ethereal and breathtaking, but at the same time displays the courage and magic that make the Elves the beings they are.', \"Speaking of Elves, I can't help but gush over the handsome and ever-so-talented Orlando Bloom as noble Legolas.\", \"Bloom captured the archer's very movements; he treads lightly and fights fearlessly.\", \"Legolas's bowmanship was amazing; he looked so natural loosing his arrows machine-gun style.\", 'He was my favorite character in the books, and his essence transcends the film.', 'Gimli was pompous and brave, as well.', 'He is well-represented in the movie.', 'Boromir was hopelessly lost, but at the same time valiant and strong.', 'Sean Bean gave an emotionally-charged performance as the tortured warrior.', 'Hugo Weaving was very good as Elrond.', 'He was noble and cold at the same time.', 'And Gandalf.', \"What more can be said of Ian McKellan's showcase portrayal of the wizard?\", 'He was magnificent.', 'He could be Gandalf, the kind old conjurer who set off pyrotechnics for hobbit-children.', 'Then he could turn around and stun the life out of you with Gandalf the powerful wizard, facing the balrog with defiance and an iron will.', 'His Oscar nomination is well-deserved.', 'Peter Jackson is a brave soul to take on a project that could have backfired in so many places.', \"Instead of bringing us uninspired kitsch, he serves up raw emotion, graphic battles of good and evil, chilling and wonderful characters, and enough special effects (realistic, mind you) to make John Cameron's mouth water.\", 'Knowing that \"The Two Towers\" was my favorite of the books, I eagerly anticipate the second helping of \"The Lord of the Rings\"']\n"
     ]
    }
   ],
   "source": [
    "from nltk.tokenize import sent_tokenize\n",
    "\n",
    "tokenized_text_sent = sent_tokenize(text)\n",
    "print(tokenized_text_sent)"
   ]
  },
  {
   "cell_type": "markdown",
   "metadata": {},
   "source": [
    "From the example above, we can see how the sample text got splitted into sentences."
   ]
  },
  {
   "cell_type": "markdown",
   "metadata": {},
   "source": [
    "<h3> Stop words </h3>"
   ]
  },
  {
   "cell_type": "markdown",
   "metadata": {},
   "source": [
    "We can see the stop words for different languages with the following code"
   ]
  },
  {
   "cell_type": "code",
   "execution_count": 76,
   "metadata": {},
   "outputs": [
    {
     "name": "stdout",
     "output_type": "stream",
     "text": [
      "{'now', 've', 'and', 'those', 'into', 'which', 'weren', \"don't\", \"she's\", 'too', \"it's\", \"aren't\", \"hasn't\", 'doing', 'then', \"weren't\", 'but', 'y', 'hasn', 'yours', 'have', \"couldn't\", \"hadn't\", 'herself', 'under', 'is', 'by', \"mustn't\", 'be', 'are', 'has', \"needn't\", 'there', 'any', 'itself', 'been', 's', 'had', 'why', 'below', 'being', 'her', 'no', 'as', 'm', \"wasn't\", 'than', 'these', \"should've\", \"wouldn't\", 'once', 'again', 'do', 'few', 'couldn', 'having', 'our', 'more', 'own', 'the', \"you're\", 'on', \"haven't\", 'don', 'she', \"shouldn't\", 'me', 'were', 'am', 'wasn', 'of', \"isn't\", \"mightn't\", 'i', 'ma', 'will', 'when', \"didn't\", 'after', 'a', 'its', 'such', 'out', 'ain', 'doesn', \"doesn't\", 'won', 'over', 'was', 'off', 'above', \"shan't\", 'we', 'against', 're', 'only', 'until', 'up', 'ourselves', 'some', 'you', 'while', 'who', 'll', 'wouldn', 'didn', 'other', 'here', 'shan', 'aren', 'hadn', 'about', 'because', 'just', 'needn', 'myself', 'can', 'where', 'not', 'my', 'himself', 'at', 'ours', 'his', 'did', \"you'd\", 'isn', \"that'll\", 'through', 'if', 'before', 'mightn', 'he', 'down', 'with', 'them', 'yourself', 'all', 'should', 'each', 'between', 'themselves', 'your', 'this', 'or', 'o', 'nor', 'does', 'same', 'whom', 'it', 'from', 'so', 'd', \"you'll\", 'haven', 'an', 'how', 'theirs', 'their', \"you've\", 'mustn', 'most', 't', 'for', 'shouldn', 'during', 'what', 'very', 'in', \"won't\", 'that', 'him', 'hers', 'to', 'both', 'yourselves', 'they', 'further'}\n"
     ]
    }
   ],
   "source": [
    "from nltk.corpus import stopwords\n",
    "\n",
    "stop_words = set(stopwords.words('english'))\n",
    "print(stop_words)"
   ]
  },
  {
   "cell_type": "markdown",
   "metadata": {},
   "source": [
    "To remove the stop words from our sample text, we can use the following code"
   ]
  },
  {
   "cell_type": "code",
   "execution_count": 91,
   "metadata": {},
   "outputs": [
    {
     "name": "stdout",
     "output_type": "stream",
     "text": [
      "Word length with stop words: 874\n",
      "Word length without stop words: 559\n"
     ]
    }
   ],
   "source": [
    "filtered_text = []\n",
    "\n",
    "for w in tokenized_text:\n",
    "    if w not in stopWords:\n",
    "        filtered_text.append(w)\n",
    "\n",
    "print('Word length with stop words: {0}'.format(len(tokenized_text)))\n",
    "print('Word length without stop words: {0}'.format(len(filtered_text)))"
   ]
  },
  {
   "cell_type": "markdown",
   "metadata": {},
   "source": [
    "<h3> Stemming </h3>"
   ]
  },
  {
   "cell_type": "markdown",
   "metadata": {},
   "source": [
    "There are more stemming algorithms, but Porter (PorterStemer) is the most popular."
   ]
  },
  {
   "cell_type": "code",
   "execution_count": 108,
   "metadata": {},
   "outputs": [
    {
     "name": "stdout",
     "output_type": "stream",
     "text": [
      "game\n",
      "game\n",
      "teach\n",
      "play\n"
     ]
    }
   ],
   "source": [
    "from nltk.stem import PorterStemmer\n",
    "\n",
    "ps = PorterStemmer()\n",
    "\n",
    "words = ['game', 'gaming', 'teaching', 'played']\n",
    "\n",
    "for word in words:\n",
    "    print(ps.stem(word))"
   ]
  },
  {
   "cell_type": "markdown",
   "metadata": {},
   "source": [
    "We will apply stemming to our sample text"
   ]
  },
  {
   "cell_type": "code",
   "execution_count": 109,
   "metadata": {},
   "outputs": [
    {
     "name": "stdout",
     "output_type": "stream",
     "text": [
      "['when', 'I', 'first', 'saw', 'trailer', '``', 'the', 'fellowship', 'ring', ',', \"''\", 'I', 'never', 'interest', 'read', 'lengthi', 'tome', 'trilog', '.', 'but', 'see', 'possibl', 'movi', ',', 'I', 'immedi', 'went', 'read', 'whole', 'thing', ',', 'insist', 'receiv', 'christma', ',', 'enjoy', 'everi', 'minut', '.', 'the', 'feel', 'I', 'read', 'seri', 'heighten', 'see', 'come', 'life', 'stun', 'movi', '.', 'I', 'thought', 'fabul', 'work', 'art', '.', 'I', 'thought', 'galadriel', 'tell', 'basic', 'prologu', 'book', 'good', 'idea', ',', 'help', 'never', 'read', 'stori', '.', 'It', 'also', 'immedi', 'involv', 'film', ';', 'I', 'felt', 'I', 'insid', \"'s\", 'advantag', 'rest', 'audienc', '.', 'cate', 'blanchett', 'wonder', 'deep', 'emot', 'voic', ';', 'way', 'speak', 'galadriel', 'almost', 'effect', 'appear', 'elven', 'queen', '.', 'also', ',', 'show', 'last', 'battl', 'isildur', 'sauron', 'help', 'unfog', 'part', 'novel', 'trifl', 'confus', '.', 'the', 'entir', 'movi', 'full', 'beauti', 'set', 'landscap', '.', 'the', 'shire', 'almost', 'exactli', 'I', \"'d\", 'pictur', '.', 'hobbiton', 'cute', 'whimsic', '.', 'mordor', 'frighteningli', 'well', 'done', ',', 'extrem', 'real', '.', 'rivendel', 'littl', 'bit', 'european-tourist-trap', 'look', ',', 'beauti', '.', 'the', 'entir', 'backdrop', 'movi', '(', 'mountain', ',', 'moria', ',', 'isengard', ')', 'perfect', ';', \"'s\", 'amaz', '``', 'fellowship', \"''\", 'film', 'one', 'countri', '.', 'now', 'charact', '.', 'all', 'I', 'say', ',', '``', 'wow', '.', \"''\", 'I', 'littl', 'apprehens', 'cast', 'first', ';', 'I', \"'d\", 'creat', 'real', 'imag', 'charact', 'imagin', ',', 'I', 'almost', \"n't\", 'want', 'spoil', '.', 'howev', ',', 'I', 'disapoint', 'least', '.', 'elijah', 'wood', ',', 'though', 'one', 'favorit', 'actor', ',', 'believ', '.', 'you', 'could', 'tell', 'first', 'glimps', 'frodo', 'special', ';', 'wood', \"'s\", 'pale', ',', 'sharp', 'featur', 'contrast', 'sharpli', 'ruddi', ',', 'robust', 'look', 'rest', 'hobbit', '.', 'He', 'also', 'cri', 'like', 'littl', 'girl', '.', 'but', 'weak', 'strength', 'make', 'frodo', 'apt', 'choic', 'star', 'charact', '.', 'the', 'rest', 'hobbiton', 'gang', 'well-chosen', ',', '.', 'sean', 'astin', '(', '``', 'rudi', \"''\", 'forev', ')', 'loyal', 'bit', 'bumbl', ',', 'like', 'gamge', 'tolkien', \"'s\", 'tell', '.', 'pippin', 'merri', 'congeni', ',', 'slow-wit', 'lad', ',', 'brave', 'nonetheless', '.', 'viggo', 'mortensen', 'outstand', '.', 'He', 'abil', 'make', 'aragorn', 'menac', 'kind', '.', 'He', 'physic', 'repres', 'strider', 'nine', 'strength', 'viril', ';', 'action', 'sequenc', 'passion', 'excit', '.', 'some', 'may', 'complain', 'arwen', \"'s\", 'charact', 'slightli', 'expand', ';', 'I', 'thought', 'good', 'chang', '.', 'In', 'book', ',', 'read', 'whole', 'trilog', 'rifl', 'appendix', '``', 'the', 'return', 'king', \"''\", 'learn', 'histori', 'aragorn', 'arwen', '.', 'liv', 'tyler', 'ether', 'breathtak', ',', 'time', 'display', 'courag', 'magic', 'make', 'elv', 'be', '.', 'speak', 'elv', ',', 'I', 'ca', \"n't\", 'help', 'gush', 'handsom', 'ever-so-tal', 'orlando', 'bloom', 'nobl', 'legola', '.', 'bloom', 'captur', 'archer', \"'s\", 'movement', ';', 'tread', 'lightli', 'fight', 'fearlessli', '.', 'legola', \"'s\", 'bowmanship', 'amaz', ';', 'look', 'natur', 'loos', 'arrow', 'machine-gun', 'style', '.', 'He', 'favorit', 'charact', 'book', ',', 'essenc', 'transcend', 'film', '.', 'gimli', 'pompou', 'brave', ',', 'well', '.', 'He', 'well-repres', 'movi', '.', 'boromir', 'hopelessli', 'lost', ',', 'time', 'valiant', 'strong', '.', 'sean', 'bean', 'gave', 'emotionally-charg', 'perform', 'tortur', 'warrior', '.', 'hugo', 'weav', 'good', 'elrond', '.', 'He', 'nobl', 'cold', 'time', '.', 'and', 'gandalf', '.', 'what', 'said', 'ian', 'mckellan', \"'s\", 'showcas', 'portray', 'wizard', '?', 'He', 'magnific', '.', 'He', 'could', 'gandalf', ',', 'kind', 'old', 'conjur', 'set', 'pyrotechn', 'hobbit-children', '.', 'then', 'could', 'turn', 'around', 'stun', 'life', 'gandalf', 'power', 'wizard', ',', 'face', 'balrog', 'defianc', 'iron', '.', 'hi', 'oscar', 'nomin', 'well-deserv', '.', 'peter', 'jackson', 'brave', 'soul', 'take', 'project', 'could', 'backfir', 'mani', 'place', '.', 'instead', 'bring', 'us', 'uninspir', 'kitsch', ',', 'serv', 'raw', 'emot', ',', 'graphic', 'battl', 'good', 'evil', ',', 'chill', 'wonder', 'charact', ',', 'enough', 'special', 'effect', '(', 'realist', ',', 'mind', ')', 'make', 'john', 'cameron', \"'s\", 'mouth', 'water', '.', 'know', '``', 'the', 'two', 'tower', \"''\", 'favorit', 'book', ',', 'I', 'eagerli', 'anticip', 'second', 'help', '``', 'the', 'lord', 'ring', \"''\"]\n"
     ]
    }
   ],
   "source": [
    "stemmed_text = []\n",
    "\n",
    "for word in filtered_text:\n",
    "    stemmed_text.append(ps.stem(word))\n",
    "\n",
    "print(stemmed_text)"
   ]
  }
 ],
 "metadata": {
  "kernelspec": {
   "display_name": "Python 3",
   "language": "python",
   "name": "python3"
  },
  "language_info": {
   "codemirror_mode": {
    "name": "ipython",
    "version": 3
   },
   "file_extension": ".py",
   "mimetype": "text/x-python",
   "name": "python",
   "nbconvert_exporter": "python",
   "pygments_lexer": "ipython3",
   "version": "3.5.1+"
  }
 },
 "nbformat": 4,
 "nbformat_minor": 2
}
