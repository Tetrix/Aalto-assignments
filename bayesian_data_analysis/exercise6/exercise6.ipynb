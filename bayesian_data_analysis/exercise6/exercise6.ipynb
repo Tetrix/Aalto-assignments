{
 "cells": [
  {
   "cell_type": "code",
   "execution_count": 114,
   "metadata": {},
   "outputs": [],
   "source": [
    "import pystan\n",
    "import numpy as np\n",
    "import pandas as pd\n",
    "import matplotlib.pyplot as plt"
   ]
  },
  {
   "cell_type": "code",
   "execution_count": 115,
   "metadata": {},
   "outputs": [],
   "source": [
    "corr = 0.5\n",
    "sigma_alpha = 2\n",
    "sigma_beta = 10\n",
    "mu_alpha = 0\n",
    "mu_beta = 10\n",
    "\n",
    "animals = np.array([5, 5, 5, 5])\n",
    "doses = np.array([-0.86, -0.30, -0.05, 0.73])\n",
    "deaths = np.array([0, 1, 3, 5])\n",
    "\n",
    "mean = np.array([mu_alpha, mu_beta])\n",
    "covariance = np.array([[sigma_alpha ** 2, corr * sigma_alpha * sigma_beta],\n",
    "                       [corr * sigma_alpha * sigma_beta, sigma_beta**2]])"
   ]
  },
  {
   "cell_type": "code",
   "execution_count": 116,
   "metadata": {},
   "outputs": [
    {
     "name": "stderr",
     "output_type": "stream",
     "text": [
      "INFO:pystan:COMPILING THE C++ CODE FOR MODEL anon_model_a382f739413f6101e8776095f13c4d19 NOW.\n",
      "/usr/local/lib/python3.6/dist-packages/Cython/Compiler/Main.py:367: FutureWarning: Cython directive 'language_level' not set, using 2 for now (Py2). This will change in a later release! File: /tmp/tmpva0a75rd/stanfit4anon_model_a382f739413f6101e8776095f13c4d19_902471648067774141.pyx\n",
      "  tree = Parsing.p_module(s, pxd, full_module_name)\n"
     ]
    }
   ],
   "source": [
    "bioassay_code = \"\"\"\n",
    "data {\n",
    "    int animals[4];\n",
    "    int deaths[4];\n",
    "    vector[4] doses;\n",
    "    vector[2] mean_val;\n",
    "    matrix[2, 2] covariance;\n",
    "    \n",
    "}\n",
    "\n",
    "parameters {\n",
    "    vector[2] alpha_beta;\n",
    "}\n",
    "\n",
    "model {\n",
    "    alpha_beta ~ multi_normal(mean_val, covariance);\n",
    "    deaths ~ binomial_logit(animals, alpha_beta[1] + alpha_beta[2] * doses);\n",
    "}\n",
    "\"\"\"\n",
    "\n",
    "bioassay_dat = {'animals': animals,\n",
    "                'doses': doses,\n",
    "                'deaths': deaths,\n",
    "                'mean_val': mean,\n",
    "                'covariance': covariance\n",
    "               }\n",
    "\n",
    "sm = pystan.StanModel(model_code = bioassay_code)\n",
    "fit = sm.sampling(data = bioassay_dat, iter=1000, chains=4)"
   ]
  },
  {
   "cell_type": "code",
   "execution_count": 124,
   "metadata": {},
   "outputs": [
    {
     "name": "stderr",
     "output_type": "stream",
     "text": [
      "WARNING:pystan:Deprecation warning. In future, use ArviZ library (`pip install arviz`)\n"
     ]
    },
    {
     "name": "stdout",
     "output_type": "stream",
     "text": [
      "The Rhat values are: 1.0023517370567125 1.0039961624521467\n",
      "The posterior alpha mean is: 1.0018762007631787\n",
      "The posterior beta mean is: 10.58612042866565\n"
     ]
    },
    {
     "data": {
      "text/html": [
       "<div>\n",
       "<style scoped>\n",
       "    .dataframe tbody tr th:only-of-type {\n",
       "        vertical-align: middle;\n",
       "    }\n",
       "\n",
       "    .dataframe tbody tr th {\n",
       "        vertical-align: top;\n",
       "    }\n",
       "\n",
       "    .dataframe thead th {\n",
       "        text-align: right;\n",
       "    }\n",
       "</style>\n",
       "<table border=\"1\" class=\"dataframe\">\n",
       "  <thead>\n",
       "    <tr style=\"text-align: right;\">\n",
       "      <th></th>\n",
       "      <th>mean</th>\n",
       "      <th>se_mean</th>\n",
       "      <th>sd</th>\n",
       "      <th>2.5%</th>\n",
       "      <th>25%</th>\n",
       "      <th>50%</th>\n",
       "      <th>75%</th>\n",
       "      <th>97.5%</th>\n",
       "      <th>n_eff</th>\n",
       "      <th>Rhat</th>\n",
       "    </tr>\n",
       "  </thead>\n",
       "  <tbody>\n",
       "    <tr>\n",
       "      <th>alpha_beta[1]</th>\n",
       "      <td>1.001876</td>\n",
       "      <td>0.032972</td>\n",
       "      <td>0.909921</td>\n",
       "      <td>-0.707765</td>\n",
       "      <td>0.377217</td>\n",
       "      <td>0.957580</td>\n",
       "      <td>1.596745</td>\n",
       "      <td>2.939366</td>\n",
       "      <td>761.575357</td>\n",
       "      <td>1.002352</td>\n",
       "    </tr>\n",
       "    <tr>\n",
       "      <th>alpha_beta[2]</th>\n",
       "      <td>10.586120</td>\n",
       "      <td>0.201969</td>\n",
       "      <td>4.589509</td>\n",
       "      <td>3.491286</td>\n",
       "      <td>7.050669</td>\n",
       "      <td>10.100277</td>\n",
       "      <td>13.364230</td>\n",
       "      <td>21.016178</td>\n",
       "      <td>516.370865</td>\n",
       "      <td>1.003996</td>\n",
       "    </tr>\n",
       "    <tr>\n",
       "      <th>lp__</th>\n",
       "      <td>-7.132224</td>\n",
       "      <td>0.040386</td>\n",
       "      <td>1.020986</td>\n",
       "      <td>-9.831832</td>\n",
       "      <td>-7.531853</td>\n",
       "      <td>-6.824316</td>\n",
       "      <td>-6.394639</td>\n",
       "      <td>-6.111095</td>\n",
       "      <td>639.115474</td>\n",
       "      <td>0.999760</td>\n",
       "    </tr>\n",
       "  </tbody>\n",
       "</table>\n",
       "</div>"
      ],
      "text/plain": [
       "                    mean   se_mean        sd      2.5%       25%        50%  \\\n",
       "alpha_beta[1]   1.001876  0.032972  0.909921 -0.707765  0.377217   0.957580   \n",
       "alpha_beta[2]  10.586120  0.201969  4.589509  3.491286  7.050669  10.100277   \n",
       "lp__           -7.132224  0.040386  1.020986 -9.831832 -7.531853  -6.824316   \n",
       "\n",
       "                     75%      97.5%       n_eff      Rhat  \n",
       "alpha_beta[1]   1.596745   2.939366  761.575357  1.002352  \n",
       "alpha_beta[2]  13.364230  21.016178  516.370865  1.003996  \n",
       "lp__           -6.394639  -6.111095  639.115474  0.999760  "
      ]
     },
     "execution_count": 124,
     "metadata": {},
     "output_type": "execute_result"
    },
    {
     "data": {
      "image/png": "[encoded data removed]",
      "text/plain": [
       "<Figure size 432x288 with 2 Axes>"
      ]
     },
     "metadata": {
      "needs_background": "light"
     },
     "output_type": "display_data"
    }
   ],
   "source": [
    "summary = fit.summary()\n",
    "summary = pd.DataFrame(summary['summary'], columns=summary['summary_colnames'], index=summary['summary_rownames'])\n",
    "alpha_rhat = summary['Rhat'][0]\n",
    "beta_rhat = summary['Rhat'][1]\n",
    "print('The Rhat values are: {0} {1}'.format(alpha_rhat, beta_rhat))\n",
    "\n",
    "alpha_beta = fit.extract(permuted=True)['alpha_beta']\n",
    "alpha = alpha_beta[:,0]\n",
    "beta = alpha_beta[:,1]\n",
    "\n",
    "fit.plot()\n",
    "summary"
   ]
  },
  {
   "cell_type": "code",
   "execution_count": 123,
   "metadata": {},
   "outputs": [
    {
     "data": {
      "image/png": "[encoded data removed]",
      "text/plain": [
       "<Figure size 432x288 with 1 Axes>"
      ]
     },
     "metadata": {
      "needs_background": "light"
     },
     "output_type": "display_data"
    }
   ],
   "source": [
    "# Plot the data\n",
    "plt.scatter(alpha, beta)\n",
    "plt.xlim(-4, 4)\n",
    "plt.ylim(-10, 30)\n",
    "plt.xlabel('Alpha')\n",
    "plt.ylabel('Beta')\n",
    "plt.title('Samples')\n",
    "plt.show()"
   ]
  }
 ],
 "metadata": {
  "kernelspec": {
   "display_name": "Python 3",
   "language": "python",
   "name": "python3"
  },
  "language_info": {
   "codemirror_mode": {
    "name": "ipython",
    "version": 3
   },
   "file_extension": ".py",
   "mimetype": "text/x-python",
   "name": "python",
   "nbconvert_exporter": "python",
   "pygments_lexer": "ipython3",
   "version": "3.6.7"
  }
 },
 "nbformat": 4,
 "nbformat_minor": 2
}
