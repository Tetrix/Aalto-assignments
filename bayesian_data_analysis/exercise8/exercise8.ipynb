{
 "cells": [
  {
   "cell_type": "code",
   "execution_count": 2,
   "metadata": {},
   "outputs": [],
   "source": [
    "import pystan\n",
    "import numpy as np\n",
    "import pandas as pd\n",
    "from scipy.stats import norm, beta\n",
    "import matplotlib.pyplot as plt\n",
    "import matplotlib as mpl\n",
    "from psis import psisloo"
   ]
  },
  {
   "cell_type": "code",
   "execution_count": 3,
   "metadata": {},
   "outputs": [],
   "source": [
    "# POOLED MODEL\n",
    "df = pd.read_csv('factory.csv', sep=' ', header=None)\n",
    "number_datapoints = df.shape[0] * df.shape[1]\n",
    "# num_groups = df.shape[1]\n",
    "y = df.values\n",
    "y = y.ravel()\n",
    "x = np.arange(1, df.shape[1]+1, 1)"
   ]
  },
  {
   "cell_type": "code",
   "execution_count": 22,
   "metadata": {},
   "outputs": [
    {
     "name": "stderr",
     "output_type": "stream",
     "text": [
      "INFO:pystan:COMPILING THE C++ CODE FOR MODEL anon_model_678b236510469b73635a87bc71a8462c NOW.\n"
     ]
    }
   ],
   "source": [
    "pooled_factory_code = '''\n",
    "data {\n",
    "    int<lower=0> N; // number of data points\n",
    "    vector[N] y;\n",
    "}\n",
    "\n",
    "parameters {\n",
    "    real mu;             // prior mean\n",
    "    real<lower=0> sigma;\n",
    "}\n",
    "\n",
    "model {\n",
    "  y ~ normal(mu, sigma);\n",
    "}\n",
    "\n",
    "generated quantities {\n",
    "    real ypred;\n",
    "    vector[N] log_lik;\n",
    "    \n",
    "    ypred = normal_rng(mu, sigma);\n",
    "    \n",
    "    for (i in 1:N)\n",
    "        log_lik[i] = normal_lpdf(y[i] | mu, sigma);   \n",
    "}\n",
    "'''\n",
    "\n",
    "\n",
    "pooled_factory_data = {'N': number_datapoints,\n",
    "                'y': y\n",
    "               }\n",
    "\n",
    "sm = pystan.StanModel(model_code = pooled_factory_code)\n",
    "pooled_fit = sm.sampling(data = pooled_factory_data)"
   ]
  },
  {
   "cell_type": "code",
   "execution_count": 56,
   "metadata": {},
   "outputs": [
    {
     "name": "stdout",
     "output_type": "stream",
     "text": [
      "PSIS-LOO value: -130.995070780941\n",
      "The effective number of parameters is: 2.043608050711015\n"
     ]
    },
    {
     "data": {
      "text/plain": [
       "Text(0.5, 1.0, 'K_hat values for the pooled model')"
      ]
     },
     "execution_count": 56,
     "metadata": {},
     "output_type": "execute_result"
    },
    {
     "data": {
      "image/png": "[encoded data removed]",
      "text/plain": [
       "<Figure size 432x288 with 1 Axes>"
      ]
     },
     "metadata": {},
     "output_type": "display_data"
    }
   ],
   "source": [
    "summary = pooled_fit.summary()\n",
    "summary = pd.DataFrame(summary['summary'], columns=summary['summary_colnames'], index=summary['summary_rownames'])\n",
    "\n",
    "log_lik = pooled_fit.extract(permuted=True)['log_lik']\n",
    "\n",
    "loo, loos, ks = psisloo(log_lik)\n",
    "print('PSIS-LOO value: {0}'.format(loo))\n",
    "\n",
    "S = np.shape(log_lik)[0]\n",
    "lppd = sum(np.log([1 / S * sum(np.exp(elem)) for elem in log_lik.T]))\n",
    "\n",
    "p_loocv = lppd - loo\n",
    "print('The effective number of parameters is: {0}'.format(p_loocv))\n",
    "\n",
    "plt.hist(ks, bins=np.linspace(0,1,10))\n",
    "plt.title('K_hat values for the pooled model')"
   ]
  },
  {
   "cell_type": "code",
   "execution_count": 48,
   "metadata": {},
   "outputs": [],
   "source": [
    "# HIERARCHICAL MODEL\n",
    "df = pd.read_csv('factory.csv', sep=' ', header=None)\n",
    "number_datapoints = df.shape[0] * df.shape[1]\n",
    "num_groups = df.shape[1]\n",
    "y = df.values\n",
    "y = np.reshape(y, 30, order='F')\n",
    "y = y.ravel()\n",
    "x = np.arange(1,7)\n",
    "x = np.repeat(x, 5)"
   ]
  },
  {
   "cell_type": "code",
   "execution_count": 49,
   "metadata": {},
   "outputs": [
    {
     "name": "stderr",
     "output_type": "stream",
     "text": [
      "INFO:pystan:COMPILING THE C++ CODE FOR MODEL anon_model_f8c3a3034182bcb6004e48af9c09d60c NOW.\n",
      "WARNING:pystan:11 of 4000 iterations ended with a divergence (0.275%).\n",
      "WARNING:pystan:Try running with adapt_delta larger than 0.8 to remove the divergences.\n"
     ]
    }
   ],
   "source": [
    "hierarchical_factory_code = '''\n",
    "data {\n",
    "    int<lower=0> N; // number of data points\n",
    "    int<lower=0> K; // number of groups\n",
    "    int<lower=1,upper=K> x[N]; // group indicator\n",
    "    vector[N] y; //\n",
    "}\n",
    "\n",
    "parameters {\n",
    "    real mu0;             // prior mean\n",
    "    real<lower=0> sigma0; // prior std\n",
    "    \n",
    "    vector[K] mu;         // group means\n",
    "    real<lower=0> sigma;\n",
    "}\n",
    "\n",
    "model {\n",
    "    mu ~ normal(mu0, sigma0);\n",
    "    y ~ normal(mu[x], sigma);\n",
    "}\n",
    "\n",
    "generated quantities {\n",
    "    real mu7;\n",
    "    real ypred6;\n",
    "    vector[N] log_lik;\n",
    "    \n",
    "    mu7 = normal_rng(mu0, sigma0);\n",
    "    ypred6 = normal_rng(mu[6], sigma);\n",
    "    \n",
    "    \n",
    "    for (i in 1:N)\n",
    "        log_lik[i] = normal_lpdf(y[i] | mu[x[i]], sigma);    \n",
    "}\n",
    "'''\n",
    "\n",
    "hierarchical_factory_data = {'N': number_datapoints,\n",
    "                'K': num_groups,\n",
    "                'x': x,\n",
    "                'y': y\n",
    "               }\n",
    "\n",
    "sm = pystan.StanModel(model_code = hierarchical_factory_code)\n",
    "hierarchical_fit = sm.sampling(data = hierarchical_factory_data)"
   ]
  },
  {
   "cell_type": "code",
   "execution_count": 55,
   "metadata": {},
   "outputs": [
    {
     "name": "stdout",
     "output_type": "stream",
     "text": [
      "PSIS-LOO value: -126.75875644970922\n",
      "The effective number of parameters is: 5.6623774775509474\n"
     ]
    },
    {
     "data": {
      "text/plain": [
       "Text(0.5, 1.0, 'K_hat values for the hierarchical model')"
      ]
     },
     "execution_count": 55,
     "metadata": {},
     "output_type": "execute_result"
    },
    {
     "data": {
      "image/png": "[encoded data removed]",
      "text/plain": [
       "<Figure size 432x288 with 1 Axes>"
      ]
     },
     "metadata": {},
     "output_type": "display_data"
    }
   ],
   "source": [
    "summary = hierarchical_fit.summary()\n",
    "summary = pd.DataFrame(summary['summary'], columns=summary['summary_colnames'], index=summary['summary_rownames'])\n",
    "\n",
    "log_lik = hierarchical_fit.extract(permuted=True)['log_lik']\n",
    "\n",
    "loo, loos, ks = psisloo(log_lik)\n",
    "print('PSIS-LOO value: {0}'.format(loo))\n",
    "\n",
    "S = np.shape(log_lik)[0]\n",
    "lppd = sum(np.log([1 / S * sum(np.exp(elem)) for elem in log_lik.T]))\n",
    "\n",
    "p_loocv = lppd - loo\n",
    "print('The effective number of parameters is: {0}'.format(p_loocv))\n",
    "\n",
    "\n",
    "plt.hist(ks, bins=np.linspace(0,1,10))\n",
    "plt.title('K_hat values for the hierarchical model')"
   ]
  },
  {
   "cell_type": "code",
   "execution_count": 39,
   "metadata": {},
   "outputs": [
    {
     "name": "stdout",
     "output_type": "stream",
     "text": [
      "[1 2 3 4 5 6]\n"
     ]
    }
   ],
   "source": [
    "# SEPARATE MODEL\n",
    "df = pd.read_csv('factory.csv', sep=' ', header=None)\n",
    "number_datapoints = df.shape[0] * df.shape[1]\n",
    "num_groups = df.shape[1]\n",
    "y = df.values\n",
    "y = np.reshape(y, 30, order='F')\n",
    "y = y.ravel()\n",
    "x = np.arange(1,7)\n",
    "x = np.repeat(x, 5)\n",
    "\n",
    "print(np.unique(x))"
   ]
  },
  {
   "cell_type": "code",
   "execution_count": 40,
   "metadata": {},
   "outputs": [
    {
     "name": "stderr",
     "output_type": "stream",
     "text": [
      "INFO:pystan:COMPILING THE C++ CODE FOR MODEL anon_model_2102e71e64cad97227419a5d38944de7 NOW.\n"
     ]
    }
   ],
   "source": [
    "separate_factory_code = '''\n",
    "data {\n",
    "    int<lower=0> N; // number of data points\n",
    "    int<lower=0> K; // number of groups\n",
    "    int<lower=1,upper=K> x[N]; // group indicator\n",
    "    vector[N] y; //\n",
    "}\n",
    "\n",
    "parameters {\n",
    "    vector[K] mu;         // group means\n",
    "    vector<lower=0>[K] sigma;\n",
    "}\n",
    "\n",
    "model {\n",
    "  y ~ normal(mu[x], sigma[x]);\n",
    "}\n",
    "\n",
    "generated quantities {\n",
    "    real ypred;\n",
    "    vector[N] log_lik;\n",
    "    \n",
    "    ypred = normal_rng(mu[6], sigma[6]);\n",
    "    \n",
    "    for (i in 1:N)\n",
    "        log_lik[i] = normal_lpdf(y[i] | mu[x[i]], sigma[x[i]]);\n",
    "}\n",
    "'''\n",
    "\n",
    "separate_factory_data = {'N': number_datapoints,\n",
    "                'K': num_groups,\n",
    "                'x': x,\n",
    "                'y': y\n",
    "               }\n",
    "\n",
    "sm = pystan.StanModel(model_code = separate_factory_code)\n",
    "separate_fit = sm.sampling(data = separate_factory_data)"
   ]
  },
  {
   "cell_type": "code",
   "execution_count": 47,
   "metadata": {},
   "outputs": [
    {
     "name": "stdout",
     "output_type": "stream",
     "text": [
      "PSIS-LOO value: -132.1335037370914\n",
      "The effective number of parameters is: 9.6944760847352\n",
      "(array([ 3, 14, 25]),)\n"
     ]
    },
    {
     "data": {
      "text/plain": [
       "Text(0.5, 1.0, 'K_hat values for the separate model')"
      ]
     },
     "execution_count": 47,
     "metadata": {},
     "output_type": "execute_result"
    },
    {
     "data": {
      "image/png": "[encoded data removed]",
      "text/plain": [
       "<Figure size 432x288 with 1 Axes>"
      ]
     },
     "metadata": {},
     "output_type": "display_data"
    }
   ],
   "source": [
    "summary = separate_fit.summary()\n",
    "summary = pd.DataFrame(summary['summary'], columns=summary['summary_colnames'], index=summary['summary_rownames'])\n",
    "\n",
    "log_lik = separate_fit.extract(permuted=True)['log_lik']\n",
    "\n",
    "loo, loos, ks = psisloo(log_lik)\n",
    "print('PSIS-LOO value: {0}'.format(loo))\n",
    "\n",
    "S = np.shape(log_lik)[0]\n",
    "lppd = sum(np.log([1 / S * sum(np.exp(elem)) for elem in log_lik.T]))\n",
    "\n",
    "p_loocv = lppd - loo\n",
    "print('The effective number of parameters is: {0}'.format(p_loocv))\n",
    "\n",
    "print(np.where(ks >= 0.7))\n",
    "\n",
    "plt.hist(ks, bins=np.linspace(0,1,10))\n",
    "plt.title('K_hat values for the separate model')"
   ]
  },
  {
   "cell_type": "code",
   "execution_count": null,
   "metadata": {},
   "outputs": [],
   "source": [
    "\n",
    "# p_cloo_cv = lppd - loo"
   ]
  }
 ],
 "metadata": {
  "kernelspec": {
   "display_name": "Python 3",
   "language": "python",
   "name": "python3"
  },
  "language_info": {
   "codemirror_mode": {
    "name": "ipython",
    "version": 3
   },
   "file_extension": ".py",
   "mimetype": "text/x-python",
   "name": "python",
   "nbconvert_exporter": "python",
   "pygments_lexer": "ipython3",
   "version": "3.5.1+"
  }
 },
 "nbformat": 4,
 "nbformat_minor": 2
}
