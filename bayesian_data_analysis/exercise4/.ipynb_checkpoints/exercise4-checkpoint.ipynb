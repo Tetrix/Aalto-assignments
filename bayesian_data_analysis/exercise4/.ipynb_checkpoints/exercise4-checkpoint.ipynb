{
 "cells": [
  {
   "cell_type": "code",
   "execution_count": 149,
   "metadata": {},
   "outputs": [],
   "source": [
    "import numpy as np\n",
    "import scipy.stats as stats\n",
    "from scipy.special import expit\n",
    "import matplotlib.pyplot as plt"
   ]
  },
  {
   "cell_type": "code",
   "execution_count": 150,
   "metadata": {},
   "outputs": [],
   "source": [
    "def bioassaylp(a, b, x, y, n):\n",
    "    a = np.expand_dims(a, axis=-1)\n",
    "    b = np.expand_dims(b, axis=-1)\n",
    "    # these help using chain rule in derivation\n",
    "    t = a + b*x\n",
    "    et = np.exp(t)\n",
    "    z = et/(1.+et)\n",
    "    # negative log posterior (error function to be minimized)\n",
    "    lp = np.sum(y*np.log(z)+ (n-y)*np.log(1.0-z), axis=-1)\n",
    "    return lp"
   ]
  },
  {
   "cell_type": "code",
   "execution_count": 151,
   "metadata": {},
   "outputs": [
    {
     "data": {
      "image/png": "[encoded data removed]",
      "text/plain": [
       "<matplotlib.figure.Figure at 0x7f19f7a0cb38>"
      ]
     },
     "metadata": {},
     "output_type": "display_data"
    }
   ],
   "source": [
    "n = np.array([5, 5, 5, 5])\n",
    "x = np.array([-0.86, -0.30, -0.05, 0.73])\n",
    "y = np.array([0, 1, 3, 5])\n",
    "\n",
    "# mean_alpha_beta = [0, 10]\n",
    "# cov = np.matrix(\"4, 10; 10, 100\")\n",
    "corr = 0.5\n",
    "sigma_a = 2\n",
    "sigma_b = 10\n",
    "mu_a = 0\n",
    "mu_b = 10\n",
    "p = 0.5\n",
    "\n",
    "# Creating the mean and covariance matrices for the bivariate normal distribution\n",
    "mean = np.array([mu_a,mu_b])\n",
    "covariance = np.array([[sigma_a**2,p*sigma_a*sigma_b],[p*sigma_a*sigma_b,sigma_b**2]])\n",
    "prior = stats.multivariate_normal(mean, covariance)\n",
    "\n",
    "alpha = np.transpose(np.arange(-4, 4, 0.2))\n",
    "beta = np.transpose(np.arange(-10, 30, 1))\n",
    "\n",
    "alpha, beta = np.meshgrid(alpha, beta)\n",
    "grid = np.dstack((alpha, beta))\n",
    "\n",
    "prior_density_dist = prior.pdf(grid)\n",
    "\n",
    "plt.imshow(\n",
    "    prior_density_dist,\n",
    "    origin = 'lower',\n",
    "    aspect = 'auto',\n",
    "    extent = (-4, 4, -10, 30)\n",
    ")\n",
    "plt.title('Prior')\n",
    "plt.show()"
   ]
  },
  {
   "cell_type": "code",
   "execution_count": 152,
   "metadata": {},
   "outputs": [
    {
     "data": {
      "image/png": "[encoded data removed]",
      "text/plain": [
       "<matplotlib.figure.Figure at 0x7f19f7a06f28>"
      ]
     },
     "metadata": {},
     "output_type": "display_data"
    }
   ],
   "source": [
    "likelihood = bioassaylp(alpha, beta, x, y, n)\n",
    "posterior = np.exp(likelihood) * prior_density_dist\n",
    "\n",
    "plt.imshow(\n",
    "    posterior,\n",
    "    origin = 'lower',\n",
    "    aspect = 'auto',\n",
    "    extent = (-4, 4, -10, 30)\n",
    ")\n",
    "plt.title('Posterior')\n",
    "plt.show()"
   ]
  },
  {
   "cell_type": "code",
   "execution_count": 153,
   "metadata": {},
   "outputs": [],
   "source": [
    "# b)\n",
    "S = 5000\n",
    "random_samples = prior.rvs(S)"
   ]
  },
  {
   "cell_type": "code",
   "execution_count": 154,
   "metadata": {},
   "outputs": [],
   "source": [
    "def bioassaylp_modified(a, b, x, y, n):\n",
    "    a = np.expand_dims(a, axis=-1)\n",
    "    b = np.expand_dims(b, axis=-1)\n",
    "    # these help using chain rule in derivation\n",
    "    t = a + b*x\n",
    "    et = np.exp(t)\n",
    "    z = et/(1.+et)\n",
    "    for i in range(len(z)):\n",
    "        for j in range(len(z[i])):\n",
    "            if z[i][j] == 1:\n",
    "                z[i][j] -= 1e-12\n",
    "            if np.any(np.absolute(z[i][j]) < 1e-12):\n",
    "                z[i][j] = 1e-12\n",
    "    # negative log posterior (error function to be minimized)\n",
    "    lp = np.sum(y*np.log(z)+ (n-y)*np.log(1.0-z), axis=-1)\n",
    "    return lp"
   ]
  },
  {
   "cell_type": "code",
   "execution_count": 155,
   "metadata": {},
   "outputs": [
    {
     "name": "stdout",
     "output_type": "stream",
     "text": [
      "The value of S_eff is 1349.8866911829698\n",
      "Posterior alpha mean is: 0.984312529880963\n",
      "Posterior beta mean is: 10.504539074719936\n"
     ]
    }
   ],
   "source": [
    "# c)\n",
    "alpha_random = []\n",
    "beta_random = []\n",
    "for i in range(len(random_samples)):\n",
    "    alpha_random.append(random_samples[i][0])\n",
    "    beta_random.append(random_samples[i][1])\n",
    "\n",
    "    \n",
    "weights = bioassaylp_modified(alpha_random, beta_random, x, y, n)\n",
    "weights = np.array(np.exp(weights))\n",
    "weights_norm = (weights)/np.sum(weights)\n",
    "s_eff = 1 / np.sum(weights_norm ** 2)\n",
    "print('The value of S_eff is {0}'.format(s_eff))\n",
    "mean_posterior = sum(weights[:,None] * random_samples) / sum(weights)\n",
    "print('Posterior alpha mean is: {0}'.format(mean_posterior[0]))\n",
    "print('Posterior beta mean is: {0}'.format(mean_posterior[1]))"
   ]
  },
  {
   "cell_type": "code",
   "execution_count": 156,
   "metadata": {},
   "outputs": [
    {
     "name": "stdout",
     "output_type": "stream",
     "text": [
      "Mean of resampled alpha: 0.9887210916889533\n",
      "Mean of resampled beta: 11.207238115141823\n"
     ]
    }
   ],
   "source": [
    "sampling = np.random.choice(a=S, size=1000, replace=False, p=weights_norm)\n",
    "posterior_sample = random_samples[sampling]\n",
    "\n",
    "alpha = posterior_sample[:,0]\n",
    "beta = posterior_sample[:,1]\n",
    "\n",
    "print('Mean of resampled alpha: {0}'.format(np.mean(alpha)))\n",
    "print('Mean of resampled beta: {0}'.format(np.mean(beta)))"
   ]
  },
  {
   "cell_type": "code",
   "execution_count": 157,
   "metadata": {},
   "outputs": [
    {
     "data": {
      "image/png": "[encoded data removed]",
      "text/plain": [
       "<matplotlib.figure.Figure at 0x7f19f77b1f60>"
      ]
     },
     "metadata": {},
     "output_type": "display_data"
    },
    {
     "data": {
      "text/plain": [
       "<matplotlib.text.Text at 0x7f19f76d2ac8>"
      ]
     },
     "execution_count": 157,
     "metadata": {},
     "output_type": "execute_result"
    },
    {
     "data": {
      "image/png": "[encoded data removed]",
      "text/plain": [
       "<matplotlib.figure.Figure at 0x7f19f76bfeb8>"
      ]
     },
     "metadata": {},
     "output_type": "display_data"
    }
   ],
   "source": [
    "plt.scatter(alpha, beta)\n",
    "plt.xlim(-4, 4)\n",
    "plt.ylim(-10, 30)\n",
    "plt.xlabel('Alpha')\n",
    "plt.ylabel('Beta')\n",
    "plt.title('Samples')\n",
    "plt.show()\n",
    "\n",
    "plt.imshow(\n",
    "    prior_density_dist,\n",
    "    origin = 'lower',\n",
    "    aspect = 'auto',\n",
    "    extent = (-4, 4, -10, 30)\n",
    ")\n",
    "plt.title('Posterior')"
   ]
  },
  {
   "cell_type": "code",
   "execution_count": 158,
   "metadata": {},
   "outputs": [
    {
     "name": "stdout",
     "output_type": "stream",
     "text": [
      "The probability that the drug if harmful is: 1.0\n"
     ]
    }
   ],
   "source": [
    "b_idx = beta>0\n",
    "prob = (beta[b_idx].size / beta.size)\n",
    "print(\"The probability that the drug if harmful is: {0}\".format(prob))"
   ]
  },
  {
   "cell_type": "code",
   "execution_count": 160,
   "metadata": {},
   "outputs": [
    {
     "data": {
      "text/plain": [
       "<matplotlib.text.Text at 0x7f19f772ec18>"
      ]
     },
     "execution_count": 160,
     "metadata": {},
     "output_type": "execute_result"
    },
    {
     "data": {
      "image/png": "[encoded data removed]",
      "text/plain": [
       "<matplotlib.figure.Figure at 0x7f19f320bdd8>"
      ]
     },
     "metadata": {},
     "output_type": "display_data"
    }
   ],
   "source": [
    "ld50 = -alpha[b_pos] / beta[b_pos]\n",
    "plt.hist(ld50, np.arange(-50, 50, 0.02))\n",
    "plt.xlim(-0.5, 0.5)\n",
    "plt.title('LD50')"
   ]
  },
  {
   "cell_type": "code",
   "execution_count": null,
   "metadata": {},
   "outputs": [],
   "source": []
  }
 ],
 "metadata": {
  "kernelspec": {
   "display_name": "Python 3",
   "language": "python",
   "name": "python3"
  },
  "language_info": {
   "codemirror_mode": {
    "name": "ipython",
    "version": 3
   },
   "file_extension": ".py",
   "mimetype": "text/x-python",
   "name": "python",
   "nbconvert_exporter": "python",
   "pygments_lexer": "ipython3",
   "version": "3.5.2"
  }
 },
 "nbformat": 4,
 "nbformat_minor": 2
}
