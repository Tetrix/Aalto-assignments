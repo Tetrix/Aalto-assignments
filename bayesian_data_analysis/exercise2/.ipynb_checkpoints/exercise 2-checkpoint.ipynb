{
 "cells": [
  {
   "cell_type": "code",
   "execution_count": 2,
   "metadata": {},
   "outputs": [],
   "source": [
    "import numpy as np\n",
    "import pandas as pd\n",
    "from matplotlib import pyplot as plt\n",
    "import matplotlib.patches as mpatches\n",
    "from scipy.stats import beta"
   ]
  },
  {
   "cell_type": "code",
   "execution_count": 7,
   "metadata": {},
   "outputs": [
    {
     "name": "stdout",
     "output_type": "stream",
     "text": [
      "posterior mean:  0.5\n",
      "confidence interval 25%: 0.09429932405024608\n",
      "confidence interval 95%: 0.19045226308975\n",
      "0.7421020278492618\n"
     ]
    },
    {
     "data": {
      "image/png": "[encoded data removed]",
      "text/plain": [
       "<matplotlib.figure.Figure at 0x7fcd55176d68>"
      ]
     },
     "metadata": {},
     "output_type": "display_data"
    }
   ],
   "source": [
    "data = pd.read_csv('algae.txt', sep=\"\\n\", header=None)\n",
    "n = data[0].count()\n",
    "\n",
    "alfa_prior = 2\n",
    "beta_prior = 10\n",
    "\n",
    "alfa_y = 44\n",
    "beta_y = 230\n",
    "\n",
    "alfa_post = alfa_y + alfa_prior\n",
    "beta_post = beta_y + beta_prior\n",
    "\n",
    "y = alfa_y / (alfa_y + beta_y)\n",
    "prior = alfa_prior / (alfa_prior + beta_prior)\n",
    "posterior = alfa_post / (alfa_post + beta_post)\n",
    "\n",
    "print('posterior mean: ', posterior)\n",
    "print('confidence interval 25%:', beta.ppf(0.025, alfa_post, beta_post))\n",
    "print('confidence interval 95%:', beta.ppf(0.095, alfa_post, beta_post))\n",
    "\n",
    "l, u = beta.ppf(0.025, alfa_post, beta_post), beta.ppf(1 - 0.025, alfa_post, beta_post)\n",
    "print(beta.cdf(u, a=1, b=3) - beta.cdf(l, a=1, b=3))\n",
    "\n",
    "x = np.arange(0, 1, 0.01)\n",
    "density = beta.pdf(x, alfa_prior, beta_prior)\n",
    "\n",
    "sample = beta.rvs(alfa_prior, beta_prior, size = 1000)\n",
    "\n",
    "plt.plot(x, density)\n",
    "plt.hist(sample, density=True, bins = 25)\n",
    "\n",
    "\n",
    "plt.show()"
   ]
  },
  {
   "cell_type": "code",
   "execution_count": 4,
   "metadata": {},
   "outputs": [
    {
     "name": "stdout",
     "output_type": "stream",
     "text": [
      "0.13300594840008015\n"
     ]
    },
    {
     "data": {
      "text/plain": [
       "[<matplotlib.lines.Line2D at 0x7fcd552035f8>]"
      ]
     },
     "execution_count": 4,
     "metadata": {},
     "output_type": "execute_result"
    },
    {
     "data": {
      "image/png": "[encoded data removed]",
      "text/plain": [
       "<matplotlib.figure.Figure at 0x7fcd5721c940>"
      ]
     },
     "metadata": {},
     "output_type": "display_data"
    }
   ],
   "source": [
    "x = np.arange(0, 1, 0.001)\n",
    "\n",
    "density = beta.pdf(x, alfa_prior, beta_prior)\n",
    "density_post = beta.pdf(x, alfa_post, beta_post)\n",
    "\n",
    "sample = beta.rvs(alfa_post, beta_post, size = 1000)\n",
    "print(beta.ppf(0.095, alfa_post, beta_post))\n",
    "\n",
    "blue_patch = mpatches.Patch(color='blue', label='prior')\n",
    "orange_patch = mpatches.Patch(color='orange', label='posterior')\n",
    "plt.legend(handles=[blue_patch, orange_patch])\n",
    "\n",
    "plt.plot(x, density)\n",
    "plt.plot(x, density_post)\n",
    "\n",
    "# We can see that the expected value is similar"
   ]
  },
  {
   "cell_type": "code",
   "execution_count": 5,
   "metadata": {},
   "outputs": [
    {
     "name": "stdout",
     "output_type": "stream",
     "text": [
      "0.9586135871948555\n"
     ]
    }
   ],
   "source": [
    "cumulative = beta.cdf(0.2, alfa_post, beta_post)\n",
    "print(cumulative)"
   ]
  },
  {
   "cell_type": "code",
   "execution_count": 6,
   "metadata": {},
   "outputs": [
    {
     "name": "stdout",
     "output_type": "stream",
     "text": [
      "prior:  0.09090909090909091\n",
      "posterior:  0.11764705882352941\n",
      "confidence interval 25%: 0.09506821115263539\n",
      "confidence interval 95%: 0.10212344734770791\n"
     ]
    },
    {
     "data": {
      "text/plain": [
       "[<matplotlib.lines.Line2D at 0x7fcd5516e898>]"
      ]
     },
     "execution_count": 6,
     "metadata": {},
     "output_type": "execute_result"
    },
    {
     "data": {
      "image/png": "[encoded data removed]",
      "text/plain": [
       "<matplotlib.figure.Figure at 0x7fcd55203710>"
      ]
     },
     "metadata": {},
     "output_type": "display_data"
    }
   ],
   "source": [
    "alfa_prior = 40\n",
    "beta_prior = 400\n",
    "\n",
    "alfa_post = alfa_y + alfa_prior\n",
    "beta_post = beta_y + beta_prior\n",
    "\n",
    "y = alfa_post / (alfa_post + beta_post)\n",
    "prior = alfa_prior / (alfa_prior + beta_prior)\n",
    "posterior = alfa_post / (alfa_post + beta_post)\n",
    "print('prior: ', prior)\n",
    "print('posterior: ', posterior)\n",
    "print('confidence interval 25%:', beta.ppf(0.025, alfa_post, beta_post))\n",
    "print('confidence interval 95%:', beta.ppf(0.095, alfa_post, beta_post))\n",
    "\n",
    "x = np.arange(0, 1, 0.001)\n",
    "\n",
    "density = beta.pdf(x, alfa_prior, beta_prior)\n",
    "density_post = beta.pdf(x, alfa_post, beta_post)\n",
    "\n",
    "blue_patch = mpatches.Patch(color='blue', label='prior')\n",
    "orange_patch = mpatches.Patch(color='orange', label='posterior')\n",
    "plt.legend(handles=[blue_patch, orange_patch])\n",
    "plt.plot(x, density)\n",
    "plt.plot(x, density_post)"
   ]
  }
 ],
 "metadata": {
  "kernelspec": {
   "display_name": "Python 3",
   "language": "python",
   "name": "python3"
  },
  "language_info": {
   "codemirror_mode": {
    "name": "ipython",
    "version": 3
   },
   "file_extension": ".py",
   "mimetype": "text/x-python",
   "name": "python",
   "nbconvert_exporter": "python",
   "pygments_lexer": "ipython3",
   "version": "3.5.2"
  }
 },
 "nbformat": 4,
 "nbformat_minor": 2
}
